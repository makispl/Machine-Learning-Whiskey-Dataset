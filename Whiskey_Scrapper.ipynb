{
 "cells": [
  {
   "cell_type": "code",
   "execution_count": 1,
   "metadata": {},
   "outputs": [],
   "source": [
    "# Import the libraries\n",
    "import pandas as pd\n",
    "import numpy as np\n",
    "import requests\n",
    "from bs4 import BeautifulSoup"
   ]
  },
  {
   "cell_type": "code",
   "execution_count": 2,
   "metadata": {},
   "outputs": [],
   "source": [
    "# Make a GET request to the site\n",
    "response = requests.get(\"http://whiskyadvocate.com/ratings-reviews/?search=&submit=+&brand_id=0&rating=0&price=0&category=1%2C3%2C4%2C6%2C51&styles_id=0&issue_id=0\")\n",
    "\n",
    "# Get the content of the response\n",
    "content = response.content\n",
    "\n",
    "# Initialize the parser, and pass in the content we grabbed earlier\n",
    "parser = BeautifulSoup(content, 'html.parser')"
   ]
  },
  {
   "cell_type": "code",
   "execution_count": 3,
   "metadata": {},
   "outputs": [],
   "source": [
    "def fetch_data(parser, *args):\n",
    "    \"\"\"\n",
    "    Iterates through the parser, finds all the specified args,\n",
    "    returning the pertinent list\n",
    "    Parameters\n",
    "    ---------\n",
    "    parser : a BeautifulSoup object\n",
    "             Represents the input HTML/XML document used for its creation\n",
    "    *args  : list\n",
    "             Passes a variable number of arguments to the function\n",
    "    Returns\n",
    "    -------\n",
    "    temp_list : list\n",
    "             The list of fetched data\n",
    "    \"\"\"\n",
    "    temp_list = list()\n",
    "    \n",
    "    for i in range(len(parser)-1):\n",
    "        texts = parser[i].find_all(*args)[0].text\n",
    "        temp_list.append(texts)\n",
    "    return temp_list"
   ]
  },
  {
   "cell_type": "code",
   "execution_count": 4,
   "metadata": {},
   "outputs": [],
   "source": [
    "# Get the names\n",
    "parser_printable = parser.find_all('div', {'class': 'printable-section'})\n",
    "name_list = fetch_data(parser_printable, 'h1')"
   ]
  },
  {
   "cell_type": "code",
   "execution_count": 5,
   "metadata": {},
   "outputs": [],
   "source": [
    "# Get the categories\n",
    "parser_entry_meta = parser.find_all('p', {'class': 'entry-meta'})\n",
    "args_cat = ['span', {'itemprop': 'category'}]\n",
    "category_list = fetch_data(parser_entry_meta, args_cat[0], args_cat[1])"
   ]
  },
  {
   "cell_type": "code",
   "execution_count": 6,
   "metadata": {},
   "outputs": [],
   "source": [
    "# Get the prices - the same parser utilised\n",
    "args_pr= ['span', {'itemprop': 'price'}]\n",
    "price_list = fetch_data(parser_entry_meta, args_pr[0], args_pr[1])"
   ]
  },
  {
   "cell_type": "code",
   "execution_count": 7,
   "metadata": {},
   "outputs": [],
   "source": [
    "# Get the currencies  - same parser utilised\n",
    "args_cur = ['span', {'itemprop': 'priceCurrency'}]\n",
    "currency_list = fetch_data(parser_entry_meta, args_cur[0], args_cur[1])"
   ]
  },
  {
   "cell_type": "code",
   "execution_count": 8,
   "metadata": {},
   "outputs": [],
   "source": [
    "# Get the descriptions\n",
    "parser_review_text = parser.find_all('div', {'class': 'review-text', 'itemprop': 'description'})\n",
    "args_desc = ['p']\n",
    "description_list = fetch_data(parser_review_text, args_desc)"
   ]
  },
  {
   "cell_type": "code",
   "execution_count": 9,
   "metadata": {},
   "outputs": [],
   "source": [
    "# Get the ratings\n",
    "parser_review_top = parser.find_all('div', {'class': 'review-top'})\n",
    "args_rat = ['span', {'itemprop': 'ratingValue'}]\n",
    "rating_list = fetch_data(parser_review_top, args_rat[0], args_rat[1])"
   ]
  },
  {
   "cell_type": "code",
   "execution_count": 10,
   "metadata": {},
   "outputs": [
    {
     "name": "stdout",
     "output_type": "stream",
     "text": [
      "2636\n",
      "2636\n",
      "2636\n",
      "2636\n",
      "2636\n",
      "2636\n"
     ]
    }
   ],
   "source": [
    "# Check for equal length of list\n",
    "data = [name_list, category_list, rating_list, price_list, currency_list, description_list]\n",
    "for data in data:\n",
    "    print(len(data))"
   ]
  },
  {
   "cell_type": "code",
   "execution_count": 11,
   "metadata": {},
   "outputs": [],
   "source": [
    "# Combine all the fetched data into a DataFrame\n",
    "dict_series = {'name': name_list, 'category': category_list, 'rating': rating_list, 'price': price_list, 'currency': currency_list, 'description': description_list}\n",
    "df = pd.DataFrame(dict_series)"
   ]
  },
  {
   "cell_type": "code",
   "execution_count": 18,
   "metadata": {},
   "outputs": [],
   "source": [
    "# Write to .csv\n",
    "df.to_csv('whiskey_data.csv')"
   ]
  }
 ],
 "metadata": {
  "kernelspec": {
   "display_name": "Python 3",
   "language": "python",
   "name": "python3"
  },
  "language_info": {
   "codemirror_mode": {
    "name": "ipython",
    "version": 3
   },
   "file_extension": ".py",
   "mimetype": "text/x-python",
   "name": "python",
   "nbconvert_exporter": "python",
   "pygments_lexer": "ipython3",
   "version": "3.8.5"
  }
 },
 "nbformat": 4,
 "nbformat_minor": 4
}
